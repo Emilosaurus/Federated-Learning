{
 "cells": [
  {
   "cell_type": "code",
   "execution_count": 1,
   "id": "315a64af",
   "metadata": {},
   "outputs": [],
   "source": [
    "import tensorflow as tf\n",
    "# print(tf.__version__)"
   ]
  },
  {
   "cell_type": "code",
   "execution_count": 2,
   "id": "306242fb",
   "metadata": {},
   "outputs": [],
   "source": [
    "import flwr as fl"
   ]
  },
  {
   "cell_type": "code",
   "execution_count": 1,
   "id": "250468a8",
   "metadata": {},
   "outputs": [
    {
     "name": "stderr",
     "output_type": "stream",
     "text": [
      "INFO flwr 2023-08-13 18:56:04,213 | app.py:148 | Starting Flower server, config: ServerConfig(num_rounds=3, round_timeout=None)\n",
      "INFO flwr 2023-08-13 18:56:04,244 | app.py:168 | Flower ECE: gRPC server running (3 rounds), SSL is disabled\n",
      "INFO flwr 2023-08-13 18:56:04,246 | server.py:86 | Initializing global parameters\n",
      "INFO flwr 2023-08-13 18:56:04,247 | server.py:273 | Requesting initial parameters from one random client\n",
      "INFO flwr 2023-08-13 18:58:00,784 | server.py:277 | Received initial parameters from one random client\n",
      "INFO flwr 2023-08-13 18:58:00,785 | server.py:88 | Evaluating initial parameters\n",
      "INFO flwr 2023-08-13 18:58:00,787 | server.py:101 | FL starting\n"
     ]
    }
   ],
   "source": [
    "import flwr as fl\n",
    "\n",
    "# Start Flower server\n",
    "fl.server.start_server(\n",
    "  server_address=\"0.0.0.0:8080\",\n",
    "  config=fl.server.ServerConfig(num_rounds=3),\n",
    ")\n",
    "\n"
   ]
  },
  {
   "cell_type": "code",
   "execution_count": 1,
   "id": "cd9d7dcb",
   "metadata": {},
   "outputs": [
    {
     "name": "stderr",
     "output_type": "stream",
     "text": [
      "INFO flwr 2023-08-13 19:05:09,160 | app.py:148 | Starting Flower server, config: ServerConfig(num_rounds=3, round_timeout=None)\n",
      "INFO flwr 2023-08-13 19:05:09,209 | app.py:168 | Flower ECE: gRPC server running (3 rounds), SSL is disabled\n",
      "INFO flwr 2023-08-13 19:05:09,210 | server.py:86 | Initializing global parameters\n",
      "INFO flwr 2023-08-13 19:05:09,211 | server.py:273 | Requesting initial parameters from one random client\n"
     ]
    }
   ],
   "source": [
    "import flwr as fl\n",
    "\n",
    "strategy = fl.server.strategy.FedAvg(\n",
    "    fraction_fit=0.5,  # Sample 10% of available clients for the next round\n",
    "    min_fit_clients=2,  # Minimum number of clients to be sampled for the next round\n",
    "    min_available_clients=2,  # Minimum number of clients that need to be connected to the server before a training round can start\n",
    ")\n",
    "fl.server.start_server(config=fl.server.ServerConfig(num_rounds=3), strategy=strategy)"
   ]
  },
  {
   "cell_type": "code",
   "execution_count": null,
   "id": "2aef0af8",
   "metadata": {},
   "outputs": [],
   "source": [
    "import sys\n",
    "\n",
    "print(sys.version)"
   ]
  },
  {
   "cell_type": "code",
   "execution_count": null,
   "id": "052991f8",
   "metadata": {},
   "outputs": [],
   "source": [
    "import flwr as fl\n",
    "\n",
    "strategy = fl.server.strategy.FedAvg(\n",
    "    fraction_fit=0.5,  # Sample 10% of available clients for the next round\n",
    "    min_fit_clients=2,  # Minimum number of clients to be sampled for the next round\n",
    "    min_available_clients=2,  # Minimum number of clients that need to be connected to the server before a training round can start\n",
    ")\n",
    "fl.server.start_server(config=fl.server.ServerConfig(num_rounds=3), strategy=strategy)"
   ]
  }
 ],
 "metadata": {
  "kernelspec": {
   "display_name": "Python 3 (ipykernel)",
   "language": "python",
   "name": "python3"
  },
  "language_info": {
   "codemirror_mode": {
    "name": "ipython",
    "version": 3
   },
   "file_extension": ".py",
   "mimetype": "text/x-python",
   "name": "python",
   "nbconvert_exporter": "python",
   "pygments_lexer": "ipython3",
   "version": "3.9.12"
  }
 },
 "nbformat": 4,
 "nbformat_minor": 5
}
